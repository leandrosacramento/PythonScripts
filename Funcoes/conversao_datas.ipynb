{
  "nbformat": 4,
  "nbformat_minor": 0,
  "metadata": {
    "colab": {
      "name": "conversao_datas.ipynb",
      "provenance": [],
      "collapsed_sections": []
    },
    "kernelspec": {
      "name": "python3",
      "display_name": "Python 3"
    },
    "language_info": {
      "name": "python"
    }
  },
  "cells": [
    {
      "cell_type": "code",
      "metadata": {
        "id": "apvgkoUya7bK"
      },
      "source": [
        "import datetime\n",
        "from dateutil.relativedelta import relativedelta"
      ],
      "execution_count": 2,
      "outputs": []
    },
    {
      "cell_type": "code",
      "metadata": {
        "id": "FdNtjRdSWpHk"
      },
      "source": [
        "def adiciona_data(intervalo, quantidade, data, formato_entrada='%Y-%m-%d'):\n",
        "  \"\"\"\n",
        "    Adiciona/subtrai datas relativas com o intervalo informado.\n",
        "    Parâmetros:\n",
        "      - intervalo\n",
        "        Tipo de dado: string\n",
        "          Esperado:\n",
        "            'ano'     -> adiciona/subtrai a quantidade de anos\n",
        "            'mês'     -> adiciona/subtrai a quantidade de mese\n",
        "            'dia'     -> adiciona/subtrai a quantidade de dias\n",
        "            'hora'    -> adiciona/subtrai a quantidade de horas\n",
        "            'minuto'  -> adiciona/subtrai a quantidade de minutos\n",
        "            'segundo' -> adiciona/subtrai a quantidade de segundos\n",
        "      - quantidade\n",
        "        Tipo de dado: int\n",
        "      - data\n",
        "        Tipo de dado: date\n",
        "      - formato_entrada\n",
        "        Tipo de dado: string\n",
        "          Exemplos:\n",
        "            None                   -> datetime.date(2021, 7, 8)\n",
        "            None                   -> datetime.datetime(2021, 7, 8, 1, 20, 15, 678)\n",
        "            '%Y%m%d'               -> 20210708\n",
        "            '%Y-%m-%d'             -> '2021-07-08'\n",
        "            '%Y-%m-%d %H:%M:%S.%f' -> '2021-07-08 01:20:15.000678'\n",
        "  \"\"\"\n",
        "\n",
        "  # verifica o tipo da data\n",
        "  if type(data) in(datetime.datetime, datetime.date):\n",
        "    dt_inicial = data\n",
        "  else:\n",
        "    dt_inicial = datetime.datetime.strptime(str(data), formato_entrada)\n",
        "\n",
        "  # listas\n",
        "  lista_ano = ['ano','year']\n",
        "  lista_mes = ['mês', 'mes', 'month']\n",
        "  lista_dia = ['dia', 'day']\n",
        "  lista_hora = ['hora', 'hour']\n",
        "  lista_minuto = ['minuto', 'minute']\n",
        "  lista_segundo = ['segundo', 'second']\n",
        "\n",
        "  # converte o intervalo para letras minúsculas\n",
        "  intervalo = intervalo.lower()\n",
        "\n",
        "  # adiciona/subtrai datas de acordo com o solicitado\n",
        "  if intervalo in lista_ano:\n",
        "    dt_final = dt_inicial + relativedelta(years=quantidade)\n",
        "  elif intervalo in lista_mes:\n",
        "    dt_final = dt_inicial + relativedelta(months=quantidade)\n",
        "  elif intervalo in lista_dia:\n",
        "    dt_final = dt_inicial + relativedelta(days=quantidade)\n",
        "  elif intervalo in lista_hora:\n",
        "    dt_final = dt_inicial + relativedelta(hours=quantidade)\n",
        "  elif intervalo in lista_minuto:\n",
        "    dt_final = dt_inicial + relativedelta(minutes=quantidade)\n",
        "  elif intervalo in lista_segundo:\n",
        "    dt_final = dt_inicial + relativedelta(seconds=quantidade)\n",
        "  else:\n",
        "    dt_final = dt_inicial\n",
        "\n",
        "  return dt_final"
      ],
      "execution_count": 177,
      "outputs": []
    },
    {
      "cell_type": "code",
      "metadata": {
        "colab": {
          "base_uri": "https://localhost:8080/"
        },
        "id": "UweNUBVVBgXb",
        "outputId": "44e10e0e-0805-491a-92cf-6524c9d737f4"
      },
      "source": [
        "data = '2021-07-08'\n",
        "adiciona_data('mês', -6, data, '%Y-%m-%d')"
      ],
      "execution_count": 179,
      "outputs": [
        {
          "output_type": "execute_result",
          "data": {
            "text/plain": [
              "datetime.datetime(2021, 1, 8, 0, 0)"
            ]
          },
          "metadata": {
            "tags": []
          },
          "execution_count": 179
        }
      ]
    },
    {
      "cell_type": "code",
      "metadata": {
        "colab": {
          "base_uri": "https://localhost:8080/"
        },
        "id": "_Gbtoe2jBtog",
        "outputId": "94bebe21-420d-4f99-896e-5fa79d1c265d"
      },
      "source": [
        "data = datetime.datetime(2021,7,5,21,5,1)\n",
        "adiciona_data('mês', -6, data, formato_entrada=None)"
      ],
      "execution_count": 182,
      "outputs": [
        {
          "output_type": "execute_result",
          "data": {
            "text/plain": [
              "datetime.datetime(2021, 1, 5, 21, 5, 1)"
            ]
          },
          "metadata": {
            "tags": []
          },
          "execution_count": 182
        }
      ]
    },
    {
      "cell_type": "code",
      "metadata": {
        "id": "_CTdN8mbqLvC"
      },
      "source": [
        "def formata_data(data, formato_entrada='%d/%m/%Y', formato_saida='%Y-%m-%d'):\n",
        "  \"\"\"\n",
        "    Formata datas. Ao informar 'agora' no parâmetro data será considerada a data atual.\n",
        "    Parâmetros:\n",
        "      - data\n",
        "        Tipo de dado: date / datetime / string / int \n",
        "      - quantidade\n",
        "        Tipo de dado: int\n",
        "      - data\n",
        "        Tipo de dado: date\n",
        "      - formato_entrada\n",
        "        Tipo de dado: string\n",
        "          Exemplos:\n",
        "            '%Y%m%d'               -> 20210708\n",
        "            '%Y-%m-%d'             -> '2021-07-08'\n",
        "            '%Y-%m-%d %H:%M:%S.%f' -> '2021-07-08 01:20:15.000678'\n",
        "      - formato_saida\n",
        "        Tipo de dado: string\n",
        "          Exemplos:\n",
        "            '%Y%m%d'               -> 20210708\n",
        "            '%Y-%m-%d'             -> '2021-07-08'\n",
        "            '%Y-%m-%d %H:%M:%S.%f' -> '2021-07-08 01:20:15.000678'\n",
        "            '%b %d %Y %H:%M:%S'    -> 'Jul 09 2021 00:56:54'\n",
        "  \"\"\"\n",
        "\n",
        "  # verifica o tipo da data\n",
        "  if type(data) in(datetime.datetime, datetime.date):\n",
        "    dt_inicial = data\n",
        "  elif data in('hoje', 'today', 'agora', 'now'):\n",
        "    dt_inicial = datetime.datetime.now()\n",
        "  else:\n",
        "    dt_inicial = datetime.datetime.strptime(str(data), formato_entrada)\n",
        "\n",
        "  # formata a data para o tipo solicitado\n",
        "  dt_final = dt_inicial.strftime(formato_saida)\n",
        "\n",
        "  return dt_final"
      ],
      "execution_count": 172,
      "outputs": []
    },
    {
      "cell_type": "code",
      "metadata": {
        "colab": {
          "base_uri": "https://localhost:8080/",
          "height": 35
        },
        "id": "UDGbjDQaAtGv",
        "outputId": "31a1bbc9-41fd-4cfb-e201-ae559c820b0d"
      },
      "source": [
        "formata_data('agora', formato_saida='%b %d %Y %H:%M:%S')"
      ],
      "execution_count": 173,
      "outputs": [
        {
          "output_type": "execute_result",
          "data": {
            "application/vnd.google.colaboratory.intrinsic+json": {
              "type": "string"
            },
            "text/plain": [
              "'Jul 09 2021 02:06:00'"
            ]
          },
          "metadata": {
            "tags": []
          },
          "execution_count": 173
        }
      ]
    },
    {
      "cell_type": "code",
      "metadata": {
        "colab": {
          "base_uri": "https://localhost:8080/",
          "height": 35
        },
        "id": "Y127A83pAz83",
        "outputId": "6d7aa023-f18d-4fd5-e2f8-12d81c00cc9f"
      },
      "source": [
        "data = '2021-07-08'\n",
        "formata_data(data, '%Y-%m-%d', '%Y-%m-%d %H:%M:%S.%f')"
      ],
      "execution_count": 176,
      "outputs": [
        {
          "output_type": "execute_result",
          "data": {
            "application/vnd.google.colaboratory.intrinsic+json": {
              "type": "string"
            },
            "text/plain": [
              "'2021-07-08 00:00:00.000000'"
            ]
          },
          "metadata": {
            "tags": []
          },
          "execution_count": 176
        }
      ]
    },
    {
      "cell_type": "code",
      "metadata": {
        "id": "hL7o0PxOln2L"
      },
      "source": [
        "def trunca_data(intervalo, data):\n",
        "  \"\"\"\n",
        "    Trunca datas no intervalo informado.\n",
        "    Parâmetros:\n",
        "      - intervalo\n",
        "        Tipo de dado: string\n",
        "          Esperado:\n",
        "            'ano'     -> volta para o inicio do ano\n",
        "            'mês'     -> volta para o primeiro mês do ano\n",
        "            'dia'     -> volta para o primeiro dia do mês\n",
        "            'hora'    -> volta para a primeira hora do dia\n",
        "            'minuto'  -> volta para o primeiro minuto da hora\n",
        "            'segundo' -> volta para o primeiro segundo do minuto\n",
        "      - data\n",
        "        Tipo de dado: date / datetime / string / int\n",
        "          Esperado:\n",
        "            string: '2021-07-08' / '2021-07-08 22:36' / '2021-07-08 22:36:30'\n",
        "            int: 20210708\n",
        "  \"\"\"\n",
        "\n",
        "  # verifica o tipo da data\n",
        "  if type(data) in(datetime.datetime, datetime.date):\n",
        "    dt_inicial = data\n",
        "  elif type(data) is int and len(str(data)) == 8:\n",
        "    dt_inicial = datetime.datetime.strptime(str(data), '%Y%m%d')\n",
        "  elif len(data) == 10:\n",
        "    dt_inicial = datetime.datetime.strptime(str(data), '%Y-%m-%d')\n",
        "  elif len(data) == 16:\n",
        "    dt_inicial = datetime.datetime.strptime(str(data), '%Y-%m-%d %H:%M')\n",
        "  elif len(data) >= 19:\n",
        "    dt_inicial = datetime.datetime.strptime(str(data)[:19], '%Y-%m-%d %H:%M:%S')\n",
        "\n",
        "  # listas\n",
        "  lista_ano = ['ano','year']\n",
        "  lista_mes = ['mês', 'mes', 'month']\n",
        "  lista_dia = ['dia', 'day']\n",
        "  lista_hora = ['hora', 'hour']\n",
        "  lista_minuto = ['minuto', 'minute']\n",
        "  lista_segundo = ['segundo', 'second']\n",
        "\n",
        "  # converte o intervalo para letras minúsculas\n",
        "  intervalo = intervalo.lower()\n",
        "\n",
        "  # adiciona/subtrai datas de acordo com o solicitado\n",
        "  if intervalo in lista_ano:\n",
        "    dt_final = datetime.date(dt_inicial.year, 1, 1)\n",
        "  elif intervalo in lista_mes:\n",
        "    dt_final = datetime.date(dt_inicial.year, 1, 1)\n",
        "  elif intervalo in lista_dia:\n",
        "    dt_final = datetime.date(dt_inicial.year, dt_inicial.month, 1)\n",
        "  elif intervalo in lista_hora:\n",
        "    dt_final = datetime.datetime(dt_inicial.year, dt_inicial.month, dt_inicial.day, 0, 0, 0, 0)\n",
        "  elif intervalo in lista_minuto:\n",
        "    dt_final = datetime.datetime(dt_inicial.year, dt_inicial.month, dt_inicial.day, dt_inicial.hour, 0, 0, 0)\n",
        "  elif intervalo in lista_segundo:\n",
        "    dt_final = datetime.datetime(dt_inicial.year, dt_inicial.month, dt_inicial.day, dt_inicial.hour, dt_inicial.minute, 0, 0)\n",
        "  else:\n",
        "    dt_final = dt_inicial\n",
        "\n",
        "  return dt_final"
      ],
      "execution_count": 169,
      "outputs": []
    },
    {
      "cell_type": "code",
      "metadata": {
        "colab": {
          "base_uri": "https://localhost:8080/"
        },
        "id": "6dx4H2zIAfQp",
        "outputId": "bfe1027c-df62-45e4-b724-f49d3790059e"
      },
      "source": [
        "data = '2021-07-08 22:22:22'\n",
        "trunca_data('ano', data)"
      ],
      "execution_count": 171,
      "outputs": [
        {
          "output_type": "execute_result",
          "data": {
            "text/plain": [
              "datetime.date(2021, 1, 1)"
            ]
          },
          "metadata": {
            "tags": []
          },
          "execution_count": 171
        }
      ]
    },
    {
      "cell_type": "code",
      "metadata": {
        "id": "HqQk73OqaoXV"
      },
      "source": [
        "def converte_data(data, formato_entrada='%d/%m/%Y'):\n",
        "  \"\"\"\n",
        "    Converte string ou número para data.\n",
        "    Parâmetros:\n",
        "      - data\n",
        "        Tipo de dado: string / int\n",
        "      - formato_entrada\n",
        "        Tipo de dado: string\n",
        "          Exemplos:\n",
        "            '%Y%m%d'               -> 20210708\n",
        "            '%Y-%m-%d'             -> '2021-07-08'\n",
        "            '%Y-%m-%d %H:%M:%S.%f' -> '2021-07-08 01:20:15.000678'\n",
        "  \"\"\" \n",
        "\n",
        "  dt_inicial = datetime.datetime.strptime(str(data), formato_entrada)\n",
        "\n",
        "  # converte para data caso não tenha hora informada\n",
        "  if 'H' not in formato_entrada.upper():\n",
        "    dt_final = dt_inicial.date()\n",
        "  else:\n",
        "    dt_final = dt_inicial\n",
        "  \n",
        "\n",
        "  return dt_final"
      ],
      "execution_count": null,
      "outputs": []
    },
    {
      "cell_type": "code",
      "metadata": {
        "colab": {
          "base_uri": "https://localhost:8080/"
        },
        "id": "q7ofGsoFAKAe",
        "outputId": "641d715e-afe6-4659-92e1-35adfaa9bbdb"
      },
      "source": [
        "data = '2021-07-08'\n",
        "converte_data(data, '%Y-%m-%d')"
      ],
      "execution_count": 168,
      "outputs": [
        {
          "output_type": "execute_result",
          "data": {
            "text/plain": [
              "datetime.date(2021, 7, 8)"
            ]
          },
          "metadata": {
            "tags": []
          },
          "execution_count": 168
        }
      ]
    },
    {
      "cell_type": "code",
      "metadata": {
        "colab": {
          "base_uri": "https://localhost:8080/"
        },
        "id": "JHQSdwASAMyA",
        "outputId": "b27d2833-31f3-497d-a1bb-1141312b30b0"
      },
      "source": [
        "data = 20210708\n",
        "converte_data(data, '%Y%m%d')"
      ],
      "execution_count": 167,
      "outputs": [
        {
          "output_type": "execute_result",
          "data": {
            "text/plain": [
              "datetime.date(2021, 7, 8)"
            ]
          },
          "metadata": {
            "tags": []
          },
          "execution_count": 167
        }
      ]
    }
  ]
}